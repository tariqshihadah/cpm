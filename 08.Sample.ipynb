{
 "cells": [
  {
   "cell_type": "code",
   "execution_count": 6,
   "metadata": {},
   "outputs": [
    {
     "name": "stderr",
     "output_type": "stream",
     "text": [
      "WARNING: pip is being invoked by an old script wrapper. This will fail in a future version of pip.\n",
      "Please see https://github.com/pypa/pip/issues/5599 for advice on fixing the underlying issue.\n",
      "To avoid this problem you can invoke Python with '-m pip' instead of running pip directly.\n"
     ]
    },
    {
     "data": {
      "text/html": [
       "<pre style=\"white-space:pre;overflow-x:auto;line-height:normal;font-family:Menlo,'DejaVu Sans Mono',consolas,'Courier New',monospace\">Defaulting to user installation because normal site-packages is not writeable\n",
       "</pre>\n"
      ],
      "text/plain": [
       "Defaulting to user installation because normal site-packages is not writeable\n"
      ]
     },
     "metadata": {},
     "output_type": "display_data"
    },
    {
     "data": {
      "text/html": [
       "<pre style=\"white-space:pre;overflow-x:auto;line-height:normal;font-family:Menlo,'DejaVu Sans Mono',consolas,'Courier New',monospace\">Collecting cpm\n",
       "</pre>\n"
      ],
      "text/plain": [
       "Collecting cpm\n"
      ]
     },
     "metadata": {},
     "output_type": "display_data"
    },
    {
     "data": {
      "text/html": [
       "<pre style=\"white-space:pre;overflow-x:auto;line-height:normal;font-family:Menlo,'DejaVu Sans Mono',consolas,'Courier New',monospace\">  Using cached cpm-0.8.1.dev71-py3-none-any.whl (25 kB)\n",
       "</pre>\n"
      ],
      "text/plain": [
       "  Using cached cpm-0.8.1.dev71-py3-none-any.whl (25 kB)\n"
      ]
     },
     "metadata": {},
     "output_type": "display_data"
    },
    {
     "data": {
      "text/html": [
       "<pre style=\"white-space:pre;overflow-x:auto;line-height:normal;font-family:Menlo,'DejaVu Sans Mono',consolas,'Courier New',monospace\">Collecting docopt (from cpm)\n",
       "</pre>\n"
      ],
      "text/plain": [
       "Collecting docopt (from cpm)\n"
      ]
     },
     "metadata": {},
     "output_type": "display_data"
    },
    {
     "data": {
      "text/html": [
       "<pre style=\"white-space:pre;overflow-x:auto;line-height:normal;font-family:Menlo,'DejaVu Sans Mono',consolas,'Courier New',monospace\">  Using cached docopt-0.6.2-py2.py3-none-any.whl\n",
       "</pre>\n"
      ],
      "text/plain": [
       "  Using cached docopt-0.6.2-py2.py3-none-any.whl\n"
      ]
     },
     "metadata": {},
     "output_type": "display_data"
    },
    {
     "data": {
      "text/html": [
       "<pre style=\"white-space:pre;overflow-x:auto;line-height:normal;font-family:Menlo,'DejaVu Sans Mono',consolas,'Courier New',monospace\">INFO: pip is looking at multiple versions of cpm to determine which version is compatible with other requirements. This could take a while.\n",
       "</pre>\n"
      ],
      "text/plain": [
       "INFO: pip is looking at multiple versions of cpm to determine which version is compatible with other requirements. This could take a while.\n"
      ]
     },
     "metadata": {},
     "output_type": "display_data"
    },
    {
     "data": {
      "text/html": [
       "<pre style=\"white-space:pre;overflow-x:auto;line-height:normal;font-family:Menlo,'DejaVu Sans Mono',consolas,'Courier New',monospace\">Collecting cpm\n",
       "</pre>\n"
      ],
      "text/plain": [
       "Collecting cpm\n"
      ]
     },
     "metadata": {},
     "output_type": "display_data"
    },
    {
     "data": {
      "text/html": [
       "<pre style=\"white-space:pre;overflow-x:auto;line-height:normal;font-family:Menlo,'DejaVu Sans Mono',consolas,'Courier New',monospace\">  Using cached cpm-0.8.1.dev70-py3-none-any.whl (25 kB)\n",
       "</pre>\n"
      ],
      "text/plain": [
       "  Using cached cpm-0.8.1.dev70-py3-none-any.whl (25 kB)\n"
      ]
     },
     "metadata": {},
     "output_type": "display_data"
    },
    {
     "data": {
      "text/html": [
       "<pre style=\"white-space:pre;overflow-x:auto;line-height:normal;font-family:Menlo,'DejaVu Sans Mono',consolas,'Courier New',monospace\">  Using cached cpm-0.8.1.dev69-py3-none-any.whl (25 kB)\n",
       "</pre>\n"
      ],
      "text/plain": [
       "  Using cached cpm-0.8.1.dev69-py3-none-any.whl (25 kB)\n"
      ]
     },
     "metadata": {},
     "output_type": "display_data"
    },
    {
     "data": {
      "text/html": [
       "<pre style=\"white-space:pre;overflow-x:auto;line-height:normal;font-family:Menlo,'DejaVu Sans Mono',consolas,'Courier New',monospace\">Requirement already satisfied: pyyaml in c:\\program files\\arcgis\\pro\\bin\\python\\envs\\arcgispro-py3\\lib\\site-packages (from cpm) (6.0)\n",
       "</pre>\n"
      ],
      "text/plain": [
       "Requirement already satisfied: pyyaml in c:\\program files\\arcgis\\pro\\bin\\python\\envs\\arcgispro-py3\\lib\\site-packages (from cpm) (6.0)\n"
      ]
     },
     "metadata": {},
     "output_type": "display_data"
    },
    {
     "data": {
      "text/html": [
       "<pre style=\"white-space:pre;overflow-x:auto;line-height:normal;font-family:Menlo,'DejaVu Sans Mono',consolas,'Courier New',monospace\">Requirement already satisfied: requests in c:\\program files\\arcgis\\pro\\bin\\python\\envs\\arcgispro-py3\\lib\\site-packages (from cpm) (2.31.0)\n",
       "</pre>\n"
      ],
      "text/plain": [
       "Requirement already satisfied: requests in c:\\program files\\arcgis\\pro\\bin\\python\\envs\\arcgispro-py3\\lib\\site-packages (from cpm) (2.31.0)\n"
      ]
     },
     "metadata": {},
     "output_type": "display_data"
    },
    {
     "data": {
      "text/html": [
       "<pre style=\"white-space:pre;overflow-x:auto;line-height:normal;font-family:Menlo,'DejaVu Sans Mono',consolas,'Courier New',monospace\">Requirement already satisfied: charset-normalizer&lt;4,&gt;=2 in c:\\program files\\arcgis\\pro\\bin\\python\\envs\\arcgispro-py3\\lib\\site-packages (from requests-&gt;cpm) (2.0.4)\n",
       "</pre>\n"
      ],
      "text/plain": [
       "Requirement already satisfied: charset-normalizer<4,>=2 in c:\\program files\\arcgis\\pro\\bin\\python\\envs\\arcgispro-py3\\lib\\site-packages (from requests->cpm) (2.0.4)\n"
      ]
     },
     "metadata": {},
     "output_type": "display_data"
    },
    {
     "data": {
      "text/html": [
       "<pre style=\"white-space:pre;overflow-x:auto;line-height:normal;font-family:Menlo,'DejaVu Sans Mono',consolas,'Courier New',monospace\">Requirement already satisfied: idna&lt;4,&gt;=2.5 in c:\\program files\\arcgis\\pro\\bin\\python\\envs\\arcgispro-py3\\lib\\site-packages (from requests-&gt;cpm) (3.4)\n",
       "</pre>\n"
      ],
      "text/plain": [
       "Requirement already satisfied: idna<4,>=2.5 in c:\\program files\\arcgis\\pro\\bin\\python\\envs\\arcgispro-py3\\lib\\site-packages (from requests->cpm) (3.4)\n"
      ]
     },
     "metadata": {},
     "output_type": "display_data"
    },
    {
     "data": {
      "text/html": [
       "<pre style=\"white-space:pre;overflow-x:auto;line-height:normal;font-family:Menlo,'DejaVu Sans Mono',consolas,'Courier New',monospace\">Requirement already satisfied: urllib3&lt;3,&gt;=1.21.1 in c:\\program files\\arcgis\\pro\\bin\\python\\envs\\arcgispro-py3\\lib\\site-packages (from requests-&gt;cpm) (1.26.16)\n",
       "</pre>\n"
      ],
      "text/plain": [
       "Requirement already satisfied: urllib3<3,>=1.21.1 in c:\\program files\\arcgis\\pro\\bin\\python\\envs\\arcgispro-py3\\lib\\site-packages (from requests->cpm) (1.26.16)\n"
      ]
     },
     "metadata": {},
     "output_type": "display_data"
    },
    {
     "data": {
      "text/html": [
       "<pre style=\"white-space:pre;overflow-x:auto;line-height:normal;font-family:Menlo,'DejaVu Sans Mono',consolas,'Courier New',monospace\">Requirement already satisfied: certifi&gt;=2017.4.17 in c:\\program files\\arcgis\\pro\\bin\\python\\envs\\arcgispro-py3\\lib\\site-packages (from requests-&gt;cpm) (2023.7.22)\n",
       "</pre>\n"
      ],
      "text/plain": [
       "Requirement already satisfied: certifi>=2017.4.17 in c:\\program files\\arcgis\\pro\\bin\\python\\envs\\arcgispro-py3\\lib\\site-packages (from requests->cpm) (2023.7.22)\n"
      ]
     },
     "metadata": {},
     "output_type": "display_data"
    },
    {
     "data": {
      "text/html": [
       "<pre style=\"white-space:pre;overflow-x:auto;line-height:normal;font-family:Menlo,'DejaVu Sans Mono',consolas,'Courier New',monospace\">Installing collected packages: docopt, cpm\n",
       "</pre>\n"
      ],
      "text/plain": [
       "Installing collected packages: docopt, cpm\n"
      ]
     },
     "metadata": {},
     "output_type": "display_data"
    },
    {
     "data": {
      "text/html": [
       "<pre style=\"white-space:pre;overflow-x:auto;line-height:normal;font-family:Menlo,'DejaVu Sans Mono',consolas,'Courier New',monospace\">Successfully installed cpm-0.8.1.dev69 docopt-0.6.2\n",
       "</pre>\n"
      ],
      "text/plain": [
       "Successfully installed cpm-0.8.1.dev69 docopt-0.6.2\n"
      ]
     },
     "metadata": {},
     "output_type": "display_data"
    }
   ],
   "source": [
    "# install cpm and import rural two lanes and rural multi lane prediction models for segments\n",
    "import pip\n",
    "pip.main(['install','cpm'])\n",
    "import cpm\n",
    "from cpm.hsm import rtl_seg,rml_seg"
   ]
  },
  {
   "cell_type": "code",
   "execution_count": 26,
   "metadata": {},
   "outputs": [
    {
     "name": "stdout",
     "output_type": "stream",
     "text": [
      "HOW-TO\n",
      "------\n",
      "To perform a prediction, call the model's predict method and pass all required independent variable parameters according to the constraints below.\n",
      "\n",
      "MODEL PARAMETERS\n",
      "----------------\n",
      "aadt\n",
      "- range=[1 to 17800], enforce=snap\n",
      "ase\n",
      "- values={0, 1}, enforce=strict\n",
      "  - Automated speed enforcement\n",
      "  - 0: not present; 1: present\n",
      "curve_length\n",
      "- range=[0 to 100.0], enforce=strict\n",
      "  - Length of the horizontal curve in miles\n",
      "curve_radius\n",
      "- range=[0 to 100000.0], enforce=strict\n",
      "  - Radius of the horizontal curve in feet\n",
      "dwy_density\n",
      "- range=[0 to 100], enforce=snap\n",
      "  - Number of driveways per mile\n",
      "grade\n",
      "- range=[-20 to 20], enforce=strict\n",
      "lane_width\n",
      "- range=[6 to 24], enforce=strict\n",
      "length\n",
      "- range=[0 to 100.0], enforce=strict\n",
      "lighting\n",
      "- values={0, 1}, enforce=strict\n",
      "  - 0: not present; 1: present\n",
      "num_years\n",
      "- range=[0.0 to 100.0], dtype=float, enforce=strict\n",
      "obs_kabco\n",
      "- range=[-1 to 1000.0], enforce=strict\n",
      "  - If historic crash data is unavailable, enter -1 to skip EB analysis.\n",
      "- obs_years        unconstrained\n",
      "passing_lanes\n",
      "- values={0, 1, 2}, enforce=strict\n",
      "rhr\n",
      "- values={1, 2, 3, 4, 5, 6, 7}, dtype=int, enforce=strict\n",
      "  - Roadside hazard rating\n",
      "rumble_cl\n",
      "- values={0, 1}, enforce=strict\n",
      "  - Centerline rumblestrips\n",
      "  - 0: not present; 1: present\n",
      "se_var\n",
      "- range=[0 to 0.1], enforce=strict\n",
      "  - Superelevation variance\n",
      "shld_type\n",
      "- values={gravel, turf, paved, composite}, enforce=strict\n",
      "shld_width\n",
      "- range=[0 to 20], enforce=strict\n",
      "spiral_transition\n",
      "- values={0, 0.5, 1}, enforce=strict\n",
      "  - 0: not present; 0.5: present on one end only; 1: present on both ends\n",
      "twltl\n",
      "- values={0, 1}, enforce=strict\n",
      "  - Two-way left-turn lane\n",
      "  - 0: not present; 1: present\n",
      "\n"
     ]
    }
   ],
   "source": [
    "rtl_seg.how()"
   ]
  },
  {
   "cell_type": "code",
   "execution_count": 27,
   "metadata": {},
   "outputs": [
    {
     "name": "stdout",
     "output_type": "stream",
     "text": [
      "HOW-TO\n",
      "------\n",
      "To perform a prediction, call the model's predict method and pass all required independent variable parameters according to the constraints below.\n",
      "\n",
      "MODEL PARAMETERS\n",
      "----------------\n",
      "aadt\n",
      "- range=[1 to 89300], enforce=snap\n",
      "  - where factype: values={4d}\n",
      "aadt\n",
      "- range=[1 to 33200], enforce=snap\n",
      "  - where factype: values={4u}\n",
      "ase\n",
      "- values={0, 1}, enforce=strict\n",
      "  - Automated speed enforcement\n",
      "  - 0: not present; 1: present\n",
      "factype\n",
      "- values={4d, 4u}, enforce=strict\n",
      "  - 4d: 4-lane divided\n",
      "  - 4u: 4-lane undivided\n",
      "lane_width\n",
      "- range=[6 to 18], enforce=strict\n",
      "length\n",
      "- range=[0 to 100.0], enforce=strict\n",
      "lighting\n",
      "- values={0, 1}, enforce=strict\n",
      "  - 0: not present; 1: present\n",
      "median_width\n",
      "- range=[0 to 100], enforce=strict\n",
      "num_years\n",
      "- range=[0.0 to 100.0], dtype=float, enforce=strict\n",
      "obs_kabco\n",
      "- range=[-1 to 1000.0], enforce=strict\n",
      "  - If historic crash data is unavailable, enter -1 to skip EB analysis.\n",
      "shld_type\n",
      "- values={gravel, turf, paved, composite}, enforce=strict\n",
      "shld_width\n",
      "- range=[0 to 20], enforce=strict\n",
      "sideslope\n",
      "- range=[1 to 10], enforce=strict\n",
      "  - Horizontal run of sideslope (1V:XH)\n",
      "\n"
     ]
    }
   ],
   "source": [
    "rml_seg.how()"
   ]
  },
  {
   "cell_type": "code",
   "execution_count": 29,
   "metadata": {},
   "outputs": [
    {
     "name": "stdout",
     "output_type": "stream",
     "text": [
      "(2466, 25) ['factype', 'id', 'length', 'aadt', 'num_years', 'obs_kabco', 'obs_years', 'cf_total', 'lane_width', 'shld_type', 'shld_width', 'curve_radius', 'curve_length', 'spiral_transition', 'se_var', 'rhr', 'rumble_cl', 'twltl', 'ase', 'passing_lanes', 'lighting', 'dwy_density', 'grade', 'median_width', 'sideslope']\n"
     ]
    }
   ],
   "source": [
    "# loading the sample data\n",
    "import pandas as pd\n",
    "df = pd.read_csv('Sample.csv')\n",
    "print(df.shape,list(df))"
   ]
  },
  {
   "cell_type": "code",
   "execution_count": 31,
   "metadata": {},
   "outputs": [
    {
     "data": {
      "text/html": [
       "<div>\n",
       "<style scoped>\n",
       "    .dataframe tbody tr th:only-of-type {\n",
       "        vertical-align: middle;\n",
       "    }\n",
       "\n",
       "    .dataframe tbody tr th {\n",
       "        vertical-align: top;\n",
       "    }\n",
       "\n",
       "    .dataframe thead th {\n",
       "        text-align: right;\n",
       "    }\n",
       "</style>\n",
       "<table border=\"1\" class=\"dataframe\">\n",
       "  <thead>\n",
       "    <tr style=\"text-align: right;\">\n",
       "      <th></th>\n",
       "      <th>length</th>\n",
       "      <th>aadt</th>\n",
       "      <th>obs_kabco</th>\n",
       "      <th>KABCOperMile</th>\n",
       "    </tr>\n",
       "    <tr>\n",
       "      <th>factype</th>\n",
       "      <th></th>\n",
       "      <th></th>\n",
       "      <th></th>\n",
       "      <th></th>\n",
       "    </tr>\n",
       "  </thead>\n",
       "  <tbody>\n",
       "    <tr>\n",
       "      <th>4d</th>\n",
       "      <td>498.85</td>\n",
       "      <td>12231.683871</td>\n",
       "      <td>11197</td>\n",
       "      <td>22.445625</td>\n",
       "    </tr>\n",
       "    <tr>\n",
       "      <th>4u</th>\n",
       "      <td>11.43</td>\n",
       "      <td>6577.040000</td>\n",
       "      <td>304</td>\n",
       "      <td>26.596675</td>\n",
       "    </tr>\n",
       "    <tr>\n",
       "      <th>rtl_seg</th>\n",
       "      <td>467.28</td>\n",
       "      <td>3157.037685</td>\n",
       "      <td>4618</td>\n",
       "      <td>9.882726</td>\n",
       "    </tr>\n",
       "  </tbody>\n",
       "</table>\n",
       "</div>"
      ],
      "text/plain": [
       "         length          aadt  obs_kabco  KABCOperMile\n",
       "factype                                               \n",
       "4d       498.85  12231.683871      11197     22.445625\n",
       "4u        11.43   6577.040000        304     26.596675\n",
       "rtl_seg  467.28   3157.037685       4618      9.882726"
      ]
     },
     "execution_count": 31,
     "metadata": {},
     "output_type": "execute_result"
    }
   ],
   "source": [
    "gdf = df.groupby('factype').agg({'length':'sum','aadt':'mean','obs_kabco':'sum'})\n",
    "gdf['KABCOperMile'] = gdf.obs_kabco/gdf.length\n",
    "gdf"
   ]
  },
  {
   "cell_type": "code",
   "execution_count": 33,
   "metadata": {},
   "outputs": [
    {
     "name": "stdout",
     "output_type": "stream",
     "text": [
      "(2466, 46) ['factype', 'id', 'length', 'aadt', 'num_years', 'obs_kabco', 'obs_years', 'cf_total', 'lane_width', 'shld_type', 'shld_width', 'curve_radius', 'curve_length', 'spiral_transition', 'se_var', 'rhr', 'rumble_cl', 'twltl', 'ase', 'passing_lanes', 'lighting', 'dwy_density', 'grade', 'median_width', 'sideslope', 'spf_kabco', 'af_lane_width', 'af_shld', 'af_hor_curve', 'af_se_var', 'af_grade', 'af_dwy_density', 'af_rumble_cl', 'af_passing_lanes', 'af_twltl', 'af_rhr', 'af_lighting', 'af_ase', 'af_total', 'pred_kabco', 'exp_kabco', 'spf_kabc', 'spf_kab', 'spf_o', 'af_sideslope', 'af_median_width']\n"
     ]
    }
   ],
   "source": [
    "import numpy as np\n",
    "m1 = df.factype.isin(['rtl_seg'])\n",
    "m2 = df.factype.isin(['4d','4u'])\n",
    "res1 = rtl_seg.predict(df[m1])\n",
    "res2 = rml_seg.predict(df[m2])\n",
    "results = pd.concat([res1,res2])\n",
    "\n",
    "print(results.shape,list(results))"
   ]
  },
  {
   "cell_type": "code",
   "execution_count": 34,
   "metadata": {},
   "outputs": [],
   "source": [
    "results.to_csv('Results.csv',index=False)"
   ]
  }
 ],
 "metadata": {
  "kernelspec": {
   "display_name": "Python 3 (ipykernel)",
   "language": "python",
   "name": "python3"
  },
  "language_info": {
   "codemirror_mode": {
    "name": "ipython",
    "version": 3
   },
   "file_extension": ".py",
   "mimetype": "text/x-python",
   "name": "python",
   "nbconvert_exporter": "python",
   "pygments_lexer": "ipython3",
   "version": "3.9.18"
  }
 },
 "nbformat": 4,
 "nbformat_minor": 4
}
